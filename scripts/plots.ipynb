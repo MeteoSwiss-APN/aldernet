{
 "cells": [
  {
   "cell_type": "code",
   "execution_count": null,
   "metadata": {},
   "outputs": [],
   "source": [
    "# IGNORE THIS CELL WHICH CUSTOMIZES LAYOUT AND STYLING OF THE NOTEBOOK !\n",
    "%matplotlib inline\n",
    "%config InlineBackend.figure_format = 'retina'\n",
    "import warnings\n",
    "import matplotlib.pyplot as plt\n",
    "\n",
    "warnings.filterwarnings(\"ignore\", category=FutureWarning)\n",
    "warnings.filterwarnings = lambda *a, **kw: None\n",
    "plt.rcParams[\"figure.figsize\"]=16,10\n",
    "plt.rcParams.update({'font.size': 16})"
   ]
  },
  {
   "cell_type": "code",
   "execution_count": null,
   "metadata": {},
   "outputs": [],
   "source": [
    "import os\n",
    "project_root = os.path.dirname(os.getcwd())\n",
    "output_path = os.path.join(project_root, 'outputs')\n",
    "input_path = os.path.join(project_root, 'data')"
   ]
  },
  {
   "cell_type": "code",
   "execution_count": null,
   "metadata": {},
   "outputs": [],
   "source": [
    "from psy_simple.plotters import CMap, Bounds\n",
    "from psy_maps.plotters import Transform, MapPlot2D, LonLatBox, MapPlotter\n",
    "from psyplot.plotter import Plotter\n",
    "import cartopy.crs as ccrs\n",
    "import psyplot.project as psy\n",
    "import xarray as xr\n",
    "import cfgrib\n",
    "import icon_vis.modules as iconvis\n",
    "import zarr\n",
    "import glob\n",
    "from PIL import Image"
   ]
  },
  {
   "cell_type": "code",
   "execution_count": null,
   "metadata": {},
   "outputs": [],
   "source": [
    "ds_final = xr.open_zarr(\"/scratch/sadamov/aldernet/baseline\").set_coords((\n",
    "    \"longitude\", \"latitude\", \"time\", \"step\", \"valid_time\"))\n",
    "ds_final\n"
   ]
  },
  {
   "cell_type": "code",
   "execution_count": null,
   "metadata": {},
   "outputs": [],
   "source": [
    "plot1 = ds_final.psy.plot.mapplot(\n",
    "    name=\"CORY\",\n",
    "    time=[10,11,12,13],\n",
    "    sort=[\"time\"],\n",
    "    ax=(2,2),\n",
    "    title=\"CORY %c\",\n",
    "    map_extent=[5.5, 11.0, 45.5, 48.0])\n"
   ]
  },
  {
   "cell_type": "code",
   "execution_count": null,
   "metadata": {},
   "outputs": [],
   "source": [
    "# for time in range(1, 25):\n",
    "#     plot1 = ds_final.psy.plot.mapplot(\n",
    "#         name=\"ALNUtune\",\n",
    "#         time=time,\n",
    "#         sort=[\"time\"],\n",
    "#         title=\"ALNUtune %c\",\n",
    "#         map_extent=[5.5, 11.0, 45.5, 48.0])\n",
    "\n",
    "#     plt.ioff()\n",
    "#     with plot1 as sp:\n",
    "#         sp.export(output_path + '/map_' + str(time).zfill(3) + '.png')\n",
    "#     plt.ion\n"
   ]
  },
  {
   "cell_type": "code",
   "execution_count": null,
   "metadata": {},
   "outputs": [],
   "source": [
    "# frames = [Image.open(image) for image in sorted(glob.glob(f\"{output_path}/*.png\"))]\n",
    "# frame_one = frames[0]\n",
    "# frame_one.save(output_path + \"/my_awesome.gif\", format=\"GIF\", append_images=frames,\n",
    "#                save_all=True, duration=200, loop=0)\n"
   ]
  }
 ],
 "metadata": {
  "kernelspec": {
   "display_name": "Python 3.10.4 ('aldernet')",
   "language": "python",
   "name": "python3"
  },
  "language_info": {
   "codemirror_mode": {
    "name": "ipython",
    "version": 3
   },
   "file_extension": ".py",
   "mimetype": "text/x-python",
   "name": "python",
   "nbconvert_exporter": "python",
   "pygments_lexer": "ipython3",
   "version": "3.10.4"
  },
  "orig_nbformat": 4,
  "vscode": {
   "interpreter": {
    "hash": "06f1a63cf5f30475dc9a6d52643f40ab1d580113b108a5c107168900360c5bfc"
   }
  }
 },
 "nbformat": 4,
 "nbformat_minor": 2
}
