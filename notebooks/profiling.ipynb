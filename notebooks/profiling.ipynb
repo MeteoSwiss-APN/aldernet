{
 "cells": [
  {
   "cell_type": "code",
   "execution_count": 1,
   "metadata": {},
   "outputs": [],
   "source": [
    "import numpy as np\n",
    "import pandas as pd\n",
    "import xarray as xr\n",
    "from pandas_profiling import ProfileReport\n",
    "from pyprojroot import here"
   ]
  },
  {
   "cell_type": "code",
   "execution_count": 2,
   "metadata": {},
   "outputs": [],
   "source": [
    "path_data = \"/scratch/sadamov/aldernet/npy/small_allweather/\"\n",
    "data = xr.open_zarr(\"/scratch/sadamov/aldernet/data.zarr\")\n",
    "hazel_train = np.load(path_data + \"hazel_train.npy\")\n",
    "hazel_valid = np.load(path_data + \"hazel_valid.npy\")\n",
    "alder_train = np.load(path_data + \"alder_train.npy\")\n",
    "alder_valid = np.load(path_data + \"alder_valid.npy\")\n",
    "weather_train = np.load(path_data + \"weather_train.npy\")\n",
    "weather_valid = np.load(path_data + \"weather_valid.npy\")"
   ]
  },
  {
   "cell_type": "code",
   "execution_count": 3,
   "metadata": {},
   "outputs": [],
   "source": [
    "# weather_params = [\n",
    "#     \"ALNUfr\",\n",
    "#     \"CORYctsum\",\n",
    "#     \"CORYfr\",\n",
    "#     \"DURSUN\",\n",
    "#     \"HPBL\",\n",
    "#     \"PLCOV\",\n",
    "#     \"T\",\n",
    "#     \"TWATER\",\n",
    "#     \"U\",\n",
    "#     \"V\",\n",
    "# ]\n",
    "weather_params = list(data.drop_vars((\"CORY\", \"ALNU\")).keys())\n"
   ]
  },
  {
   "cell_type": "code",
   "execution_count": 4,
   "metadata": {},
   "outputs": [
    {
     "data": {
      "text/plain": [
       "array([[<AxesSubplot:title={'center':'hazel_train'}>,\n",
       "        <AxesSubplot:title={'center':'alder_train'}>]], dtype=object)"
      ]
     },
     "execution_count": 4,
     "metadata": {},
     "output_type": "execute_result"
    },
    {
     "data": {
      "image/png": "[encoded data removed]",
      "text/plain": [
       "<Figure size 640x480 with 2 Axes>"
      ]
     },
     "metadata": {},
     "output_type": "display_data"
    }
   ],
   "source": [
    "df_combined = pd.DataFrame({\"hazel_train\": hazel_train.flatten(\"C\"),\n",
    "                            \"alder_train\": hazel_train.flatten(\"C\")})\n",
    "df_combined.hist(bins=30)"
   ]
  },
  {
   "cell_type": "code",
   "execution_count": 5,
   "metadata": {},
   "outputs": [],
   "source": [
    "# df_combined = pd.DataFrame({\"hazel_valid\": hazel_valid.flatten(\"C\"),\n",
    "#                             \"alder_valid\": hazel_valid.flatten(\"C\")})\n",
    "# df_combined.hist(bins=30)"
   ]
  },
  {
   "cell_type": "code",
   "execution_count": 6,
   "metadata": {},
   "outputs": [],
   "source": [
    "for i,item in enumerate(weather_params):\n",
    "  df_combined[item] = weather_train[:, :, :, i].flatten(\"C\")"
   ]
  },
  {
   "cell_type": "code",
   "execution_count": 7,
   "metadata": {},
   "outputs": [],
   "source": [
    "df_sample = df_combined.sample(10000)"
   ]
  },
  {
   "cell_type": "code",
   "execution_count": 8,
   "metadata": {},
   "outputs": [
    {
     "data": {
      "application/vnd.jupyter.widget-view+json": {
       "model_id": "64636c27754642bc8939e0ed2f862981",
       "version_major": 2,
       "version_minor": 0
      },
      "text/plain": [
       "Summarize dataset:   0%|          | 0/5 [00:00<?, ?it/s]"
      ]
     },
     "metadata": {},
     "output_type": "display_data"
    },
    {
     "name": "stderr",
     "output_type": "stream",
     "text": [
      "/scratch-shared/meteoswiss/scratch/sadamov/mambaforge/envs/aldernet/lib/python3.10/site-packages/multimethod/__init__.py:184: FutureWarning: iteritems is deprecated and will be removed in a future version. Use .items instead.\n",
      "  return self[tuple(map(self.get_type, args))](*args, **kwargs)\n",
      "/scratch-shared/meteoswiss/scratch/sadamov/mambaforge/envs/aldernet/lib/python3.10/site-packages/multimethod/__init__.py:184: FutureWarning: In a future version, `df.iloc[:, i] = newvals` will attempt to set the values inplace instead of always setting a new array. To retain the old behavior, use either `df[df.columns[i]] = newvals` or, if columns are non-unique, `df.isetitem(i, newvals)`\n",
      "  return self[tuple(map(self.get_type, args))](*args, **kwargs)\n"
     ]
    },
    {
     "data": {
      "application/vnd.jupyter.widget-view+json": {
       "model_id": "638040847c644373988351b426cdcc48",
       "version_major": 2,
       "version_minor": 0
      },
      "text/plain": [
       "Generate report structure:   0%|          | 0/1 [00:00<?, ?it/s]"
      ]
     },
     "metadata": {},
     "output_type": "display_data"
    },
    {
     "data": {
      "application/vnd.jupyter.widget-view+json": {
       "model_id": "4c8eeac72f554f8a8d524f3bfffff6c9",
       "version_major": 2,
       "version_minor": 0
      },
      "text/plain": [
       "Render HTML:   0%|          | 0/1 [00:00<?, ?it/s]"
      ]
     },
     "metadata": {},
     "output_type": "display_data"
    },
    {
     "data": {
      "application/vnd.jupyter.widget-view+json": {
       "model_id": "293b3f6d44ad4dc191d5eda6fed2123f",
       "version_major": 2,
       "version_minor": 0
      },
      "text/plain": [
       "Export report to file:   0%|          | 0/1 [00:00<?, ?it/s]"
      ]
     },
     "metadata": {},
     "output_type": "display_data"
    }
   ],
   "source": [
    "profile = ProfileReport(\n",
    "    df_sample,\n",
    "    title=\"Pandas Profiling Report\",\n",
    "    dark_mode=False,\n",
    "    missing_diagrams=None,\n",
    "    interactions=None)\n",
    "profile.config.html.minify_html = True\n",
    "profile.to_file(str(here()) + \"/output/\" + \"profiling_report.html\")\n",
    "profile.invalidate_cache()\n"
   ]
  }
 ],
 "metadata": {
  "kernelspec": {
   "display_name": "aldernet",
   "language": "python",
   "name": "python3"
  },
  "language_info": {
   "codemirror_mode": {
    "name": "ipython",
    "version": 3
   },
   "file_extension": ".py",
   "mimetype": "text/x-python",
   "name": "python",
   "nbconvert_exporter": "python",
   "pygments_lexer": "ipython3",
   "version": "3.10.6 | packaged by conda-forge | (main, Aug 22 2022, 20:35:26) [GCC 10.4.0]"
  },
  "orig_nbformat": 4,
  "vscode": {
   "interpreter": {
    "hash": "8461325da64fb0d34dde72261ee183b909101a2f4d8537238d9177fc08f3947e"
   }
  }
 },
 "nbformat": 4,
 "nbformat_minor": 2
}
