{
 "cells": [
  {
   "cell_type": "code",
   "execution_count": null,
   "metadata": {},
   "outputs": [],
   "source": [
    "# IGNORE THIS CELL WHICH CUSTOMIZES LAYOUT AND STYLING OF THE NOTEBOOK !\n",
    "%matplotlib inline\n",
    "%config InlineBackend.figure_format = 'retina'\n",
    "import warnings\n",
    "import matplotlib.pyplot as plt\n",
    "\n",
    "warnings.filterwarnings(\"ignore\", category=FutureWarning)\n",
    "warnings.filterwarnings = lambda *a, **kw: None\n",
    "# plt.rcParams.update(\n",
    "#     {\n",
    "#         \"lines.linewidth\": 0.8,\n",
    "#         \"figure.figsize\": [5,9],\n",
    "#         \"figure.dpi\": 200,\n",
    "#         \"hatch.color\": \"grey\",\n",
    "#         \"font.size\": 6\n",
    "#     }\n",
    "# )"
   ]
  },
  {
   "cell_type": "code",
   "execution_count": null,
   "metadata": {},
   "outputs": [],
   "source": [
    "import os\n",
    "from pyprojroot import here\n",
    "output_path = os.path.join(str(here()), 'output')"
   ]
  },
  {
   "cell_type": "code",
   "execution_count": null,
   "metadata": {},
   "outputs": [],
   "source": [
    "from psy_simple.plotters import CMap, Bounds\n",
    "from psy_maps.plotters import Transform, MapPlot2D, LonLatBox, MapPlotter\n",
    "from psyplot.plotter import Plotter\n",
    "import cartopy.crs as ccrs\n",
    "import psyplot.project as psy\n",
    "import xarray as xr\n",
    "import numpy as np\n",
    "import cfgrib\n",
    "import zarr\n",
    "import glob\n",
    "from PIL import Image\n",
    "import iconarray"
   ]
  },
  {
   "cell_type": "code",
   "execution_count": null,
   "metadata": {},
   "outputs": [],
   "source": [
    "ds = xr.open_zarr(\"/scratch/sadamov/aldernet/data.zarr\")\n",
    "# ds = ds.isel(y=slice(275, 600), x=slice(400, 750))\n",
    "ds.CORY.values = np.log10(ds.CORY.values + 1)\n",
    "ds.ALNU.values = np.log10(ds.ALNU.values + 1)"
   ]
  },
  {
   "cell_type": "code",
   "execution_count": null,
   "metadata": {},
   "outputs": [],
   "source": [
    "ds"
   ]
  },
  {
   "cell_type": "code",
   "execution_count": null,
   "metadata": {},
   "outputs": [],
   "source": [
    "# ds_ml = ds.ALNU"
   ]
  },
  {
   "cell_type": "code",
   "execution_count": null,
   "metadata": {},
   "outputs": [],
   "source": [
    "plot1 = ds.psy.plot.mapplot(\n",
    "    name=\"ALNU\",\n",
    "    valid_time=1100,\n",
    "    sort=[\"valid_time\"],\n",
    "    title=\"Alder Pollen in the Alps in March\",\n",
    "    titlesize=15,\n",
    "    lakes=True, \n",
    "    borders=True, \n",
    "    rivers=True, \n",
    "    grid_color=\"white\",\n",
    "    cticksize=8,\n",
    "    grid_labelsize=8,\n",
    "    projection = 'robin',\n",
    "    cmap='RdBu_r')\n",
    "\n",
    "plot1.show()\n",
    "# \"Log. Hazel Pollen Concentrations [Pollen/m^3]\"\n"
   ]
  },
  {
   "cell_type": "code",
   "execution_count": null,
   "metadata": {},
   "outputs": [],
   "source": [
    "plt.ioff()\n",
    "plot1.export(output_path + '/map.png')\n",
    "plt.ion"
   ]
  },
  {
   "cell_type": "code",
   "execution_count": null,
   "metadata": {},
   "outputs": [],
   "source": [
    "# colorbar=[x / 10.0 for x in range(0, 41, 5)]\n",
    "# plot1.update(bounds = colorbar, \n",
    "#              cticks = colorbar)\n",
    "\n",
    "# plot1.keys('colors')\n",
    "# plot1.docs(\"cticks\")\n",
    "\n",
    "# plot1.docs(\"bounds\")\n",
    "\n",
    "# h = plot1.plotters[0].ax.imshow(data_reduced.CORY.data[0, : ,:], vmin = 0, vmax = 4)\n",
    "# plot1.plotters[0].ax.figure.colorbar(h)\n",
    "\n",
    "# arr = plot1[-1]\n",
    "# plot1[:-1].share(arr, keys='colors')\n",
    "\n",
    "# arr.psy.update()\n",
    "# plot1.show()\n",
    "\n",
    "# plot1.share(keys='colors')\n",
    "# plot1.show()\n",
    "\n",
    "# plot1.update(\n",
    "#     enable_post=True,\n",
    "#     post=\"\"\"\n",
    "# self.data(0,4)\n",
    "#     \"\"\")\n",
    "# plot1.show()\n",
    "\n",
    "# map_extent=[5.5, 11.0, 45.5, 48.0]\n"
   ]
  },
  {
   "cell_type": "code",
   "execution_count": null,
   "metadata": {},
   "outputs": [],
   "source": [
    "# for time in range(1, 25):\n",
    "#     plot1 = ds_final.psy.plot.mapplot(\n",
    "#         name=\"ALNUtune\",\n",
    "#         time=time,\n",
    "#         sort=[\"time\"],\n",
    "#         title=\"ALNUtune %c\",\n",
    "#         map_extent=[5.5, 11.0, 45.5, 48.0])\n"
   ]
  },
  {
   "cell_type": "code",
   "execution_count": null,
   "metadata": {},
   "outputs": [],
   "source": [
    "# frames = [Image.open(image) for image in sorted(glob.glob(f\"{output_path}/*.png\"))]\n",
    "# frame_one = frames[0]\n",
    "# frame_one.save(output_path + \"/my_awesome.gif\", format=\"GIF\", append_images=frames,\n",
    "#                save_all=True, duration=200, loop=0)\n"
   ]
  }
 ],
 "metadata": {
  "kernelspec": {
   "display_name": "Python 3.10.6 ('aldernet')",
   "language": "python",
   "name": "python3"
  },
  "language_info": {
   "codemirror_mode": {
    "name": "ipython",
    "version": 3
   },
   "file_extension": ".py",
   "mimetype": "text/x-python",
   "name": "python",
   "nbconvert_exporter": "python",
   "pygments_lexer": "ipython3",
   "version": "3.10.6 | packaged by conda-forge | (main, Aug 22 2022, 20:35:26) [GCC 10.4.0]"
  },
  "orig_nbformat": 4,
  "vscode": {
   "interpreter": {
    "hash": "8461325da64fb0d34dde72261ee183b909101a2f4d8537238d9177fc08f3947e"
   }
  }
 },
 "nbformat": 4,
 "nbformat_minor": 2
}
