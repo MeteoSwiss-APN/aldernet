{
 "cells": [
  {
   "cell_type": "code",
   "execution_count": null,
   "metadata": {},
   "outputs": [],
   "source": [
    "# IGNORE THIS CELL WHICH CUSTOMIZES LAYOUT AND STYLING OF THE NOTEBOOK !\n",
    "%matplotlib inline\n",
    "%config InlineBackend.figure_format = 'retina'\n",
    "import warnings\n",
    "import matplotlib.pyplot as plt\n",
    "\n",
    "warnings.filterwarnings(\"ignore\", category=FutureWarning)\n",
    "warnings.filterwarnings = lambda *a, **kw: None\n",
    "# plt.rcParams.update(\n",
    "#     {\n",
    "#         \"lines.linewidth\": 0.8,\n",
    "#         \"figure.figsize\": [5,9],\n",
    "#         \"figure.dpi\": 200,\n",
    "#         \"hatch.color\": \"grey\",\n",
    "#         \"font.size\": 6\n",
    "#     }\n",
    "# )"
   ]
  },
  {
   "cell_type": "code",
   "execution_count": null,
   "metadata": {},
   "outputs": [],
   "source": [
    "import os\n",
    "from pyprojroot import here\n",
    "output_path = os.path.join(str(here()), 'output/gif/')"
   ]
  },
  {
   "cell_type": "code",
   "execution_count": null,
   "metadata": {},
   "outputs": [],
   "source": [
    "from psy_simple.plotters import CMap, Bounds\n",
    "from psy_maps.plotters import Transform, MapPlot2D, LonLatBox, MapPlotter\n",
    "from psyplot.plotter import Plotter\n",
    "import cartopy.crs as ccrs\n",
    "import psyplot.project as psy\n",
    "import matplotlib.pyplot as plt\n",
    "import xarray as xr\n",
    "import numpy as np\n",
    "import cfgrib\n",
    "import zarr\n",
    "import glob\n",
    "from PIL import Image\n",
    "import iconarray"
   ]
  },
  {
   "cell_type": "code",
   "execution_count": null,
   "metadata": {},
   "outputs": [],
   "source": [
    "# ds = xr.open_zarr(\"/scratch/sadamov/pyprojects_data/aldernet/data.zarr\")\n",
    "ds = xr.open_dataset(str(here()) + \"/data/alnu_ml.nc\")"
   ]
  },
  {
   "cell_type": "code",
   "execution_count": null,
   "metadata": {},
   "outputs": [],
   "source": [
    "ds"
   ]
  },
  {
   "cell_type": "code",
   "execution_count": null,
   "metadata": {},
   "outputs": [],
   "source": [
    "plot1 = ds.psy.plot.mapplot(\n",
    "    name=\"ALNU\",\n",
    "    valid_time=1100,\n",
    "    sort=[\"valid_time\"],\n",
    "    title=\"Alder Pollen in the Alps in March\",\n",
    "    titlesize=15,\n",
    "    lakes=True, \n",
    "    borders=True, \n",
    "    rivers=True, \n",
    "    grid_color=\"white\",\n",
    "    cticksize=8,\n",
    "    grid_labelsize=8,\n",
    "    projection = 'robin',\n",
    "    cmap='RdBu_r')\n",
    "\n",
    "colorbar = [x for x in range(0, 20, 2)]\n",
    "plot1.update(bounds=colorbar,\n",
    "            cticks=colorbar)\n",
    "\n",
    "plot1.show()\n"
   ]
  },
  {
   "cell_type": "code",
   "execution_count": null,
   "metadata": {},
   "outputs": [],
   "source": [
    "for valid_time in range(748,len(ds.ALNU.valid_time)):\n",
    "    plot1 = ds.psy.plot.mapplot(\n",
    "        name=\"ALNU\",\n",
    "        valid_time=valid_time,\n",
    "        sort=[\"valid_time\"],\n",
    "        title=\"Alder Pollen in the Alps\",\n",
    "        titlesize=15,\n",
    "        lakes=True,\n",
    "        borders=True,\n",
    "        rivers=True,\n",
    "        grid_color=\"white\",\n",
    "        cticksize=8,\n",
    "        grid_labelsize=8,\n",
    "        projection='robin',\n",
    "        cmap='RdBu_r')\n",
    "\n",
    "    colorbar = [x for x in range(0, 20, 2)]\n",
    "    plot1.update(bounds=colorbar,\n",
    "                 cticks=colorbar)\n",
    "\n",
    "    plt.ioff()\n",
    "    plot1.export(output_path + '/map' + str(valid_time) + '.png')\n",
    "    plt.ion()\n"
   ]
  },
  {
   "cell_type": "code",
   "execution_count": null,
   "metadata": {},
   "outputs": [],
   "source": [
    "frames = [Image.open(image) for image in sorted(glob.glob(f\"{output_path}/*.png\"))]\n",
    "frame_one = frames[0]\n",
    "frame_one.save(output_path + \"/my_awesome.gif\", format=\"GIF\", append_images=frames,\n",
    "               save_all=True, duration=200, loop=0)\n"
   ]
  }
 ],
 "metadata": {
  "kernelspec": {
   "display_name": "Python 3.10.6 ('aldernet')",
   "language": "python",
   "name": "python3"
  },
  "language_info": {
   "codemirror_mode": {
    "name": "ipython",
    "version": 3
   },
   "file_extension": ".py",
   "mimetype": "text/x-python",
   "name": "python",
   "nbconvert_exporter": "python",
   "pygments_lexer": "ipython3",
   "version": "3.10.6"
  },
  "orig_nbformat": 4,
  "vscode": {
   "interpreter": {
    "hash": "8461325da64fb0d34dde72261ee183b909101a2f4d8537238d9177fc08f3947e"
   }
  }
 },
 "nbformat": 4,
 "nbformat_minor": 2
}
