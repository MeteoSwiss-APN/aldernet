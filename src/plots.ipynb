{
 "cells": [
  {
   "cell_type": "code",
   "execution_count": null,
   "metadata": {},
   "outputs": [],
   "source": [
    "# IGNORE THIS CELL WHICH CUSTOMIZES LAYOUT AND STYLING OF THE NOTEBOOK !\n",
    "%matplotlib inline\n",
    "%config InlineBackend.figure_format = 'retina'\n",
    "import warnings\n",
    "import matplotlib.pyplot as plt\n",
    "\n",
    "warnings.filterwarnings(\"ignore\", category=FutureWarning)\n",
    "warnings.filterwarnings = lambda *a, **kw: None\n",
    "plt.rcParams.update(\n",
    "    {\n",
    "        \"lines.linewidth\": 0.8,\n",
    "        \"figure.figsize\": [8,15],\n",
    "        \"figure.dpi\": 200,\n",
    "        \"hatch.color\": \"grey\",\n",
    "        \"font.size\": 6\n",
    "    }\n",
    ")"
   ]
  },
  {
   "cell_type": "code",
   "execution_count": null,
   "metadata": {},
   "outputs": [],
   "source": [
    "import os\n",
    "project_root = os.path.dirname(os.getcwd())\n",
    "output_path = os.path.join(project_root, 'outputs')\n",
    "input_path = os.path.join(project_root, 'data')"
   ]
  },
  {
   "cell_type": "code",
   "execution_count": null,
   "metadata": {},
   "outputs": [],
   "source": [
    "from psy_simple.plotters import CMap, Bounds\n",
    "from psy_maps.plotters import Transform, MapPlot2D, LonLatBox, MapPlotter\n",
    "from psyplot.plotter import Plotter\n",
    "import cartopy.crs as ccrs\n",
    "import psyplot.project as psy\n",
    "import xarray as xr\n",
    "import numpy as np\n",
    "import cfgrib\n",
    "import zarr\n",
    "import glob\n",
    "from PIL import Image"
   ]
  },
  {
   "cell_type": "code",
   "execution_count": null,
   "metadata": {},
   "outputs": [],
   "source": [
    "ds_final = xr.open_zarr(\"/scratch/sadamov/aldernet/test\").set_coords((\n",
    "    \"longitude\", \"latitude\", \"time\", \"step\", \"valid_time\"))\n",
    "\n",
    "data_reduced = ds_final.isel(y=slice(450, 514), x=slice(500, 628))\n",
    "# data_reduced = ds_final"
   ]
  },
  {
   "cell_type": "code",
   "execution_count": null,
   "metadata": {},
   "outputs": [],
   "source": [
    "ds_final"
   ]
  },
  {
   "cell_type": "code",
   "execution_count": null,
   "metadata": {},
   "outputs": [],
   "source": [
    "# data_reduced.CORY.data = np.log10(data_reduced.CORY.data + 1)"
   ]
  },
  {
   "cell_type": "code",
   "execution_count": null,
   "metadata": {},
   "outputs": [],
   "source": [
    "plot1 = data_reduced.psy.plot.mapplot(\n",
    "    name=\"CORY\",\n",
    "    time=[0, 1, 2, 3],\n",
    "    sort=[\"time\"],\n",
    "    ax=(2, 2),\n",
    "    title=\"CORY %c\")\n",
    "\n",
    "colorbar=[x / 10.0 for x in range(0, 41, 5)]\n",
    "plot1.update(bounds = colorbar, \n",
    "             cticks = colorbar)\n",
    "\n",
    "# plot1.keys('colors')\n",
    "# plot1.docs(\"cticks\")\n",
    "\n",
    "# plot1.docs(\"bounds\")\n",
    "\n",
    "# h = plot1.plotters[0].ax.imshow(data_reduced.CORY.data[0, : ,:], vmin = 0, vmax = 4)\n",
    "# plot1.plotters[0].ax.figure.colorbar(h)\n",
    "\n",
    "# arr = plot1[-1]\n",
    "# plot1[:-1].share(arr, keys='colors')\n",
    "\n",
    "# arr.psy.update()\n",
    "# plot1.show()\n",
    "\n",
    "# plot1.share(keys='colors')\n",
    "# plot1.show()\n",
    "\n",
    "# plot1.update(\n",
    "#     enable_post=True,\n",
    "#     post=\"\"\"\n",
    "# self.data(0,4)\n",
    "#     \"\"\")\n",
    "# plot1.show()\n",
    "\n",
    "# map_extent=[5.5, 11.0, 45.5, 48.0]\n"
   ]
  },
  {
   "cell_type": "code",
   "execution_count": null,
   "metadata": {},
   "outputs": [],
   "source": [
    "# for time in range(1, 25):\n",
    "#     plot1 = ds_final.psy.plot.mapplot(\n",
    "#         name=\"ALNUtune\",\n",
    "#         time=time,\n",
    "#         sort=[\"time\"],\n",
    "#         title=\"ALNUtune %c\",\n",
    "#         map_extent=[5.5, 11.0, 45.5, 48.0])\n",
    "\n",
    "#     plt.ioff()\n",
    "#     with plot1 as sp:\n",
    "#         sp.export(output_path + '/map_' + str(time).zfill(3) + '.png')\n",
    "#     plt.ion\n"
   ]
  },
  {
   "cell_type": "code",
   "execution_count": null,
   "metadata": {},
   "outputs": [],
   "source": [
    "# frames = [Image.open(image) for image in sorted(glob.glob(f\"{output_path}/*.png\"))]\n",
    "# frame_one = frames[0]\n",
    "# frame_one.save(output_path + \"/my_awesome.gif\", format=\"GIF\", append_images=frames,\n",
    "#                save_all=True, duration=200, loop=0)\n"
   ]
  }
 ],
 "metadata": {
  "kernelspec": {
   "display_name": "Python 3.10.6 ('aldernet')",
   "language": "python",
   "name": "python3"
  },
  "language_info": {
   "codemirror_mode": {
    "name": "ipython",
    "version": 3
   },
   "file_extension": ".py",
   "mimetype": "text/x-python",
   "name": "python",
   "nbconvert_exporter": "python",
   "pygments_lexer": "ipython3",
   "version": "3.10.6"
  },
  "orig_nbformat": 4,
  "vscode": {
   "interpreter": {
    "hash": "8461325da64fb0d34dde72261ee183b909101a2f4d8537238d9177fc08f3947e"
   }
  }
 },
 "nbformat": 4,
 "nbformat_minor": 2
}
